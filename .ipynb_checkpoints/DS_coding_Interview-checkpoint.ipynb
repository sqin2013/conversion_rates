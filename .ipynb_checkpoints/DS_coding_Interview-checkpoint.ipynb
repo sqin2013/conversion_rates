{
 "cells": [
  {
   "cell_type": "code",
   "execution_count": 89,
   "metadata": {},
   "outputs": [],
   "source": [
    "import pywget\n",
    "import pandas as pd\n",
    "import numpy as np\n",
    "import matplotlib.pyplot as plt\n",
    "import seaborn as sns\n",
    "\n",
    "from sklearn.ensemble import RandomForestClassifier\n",
    "from sklearn.model_selection import train_test_split, GridSearchCV\n",
    "from sklearn.metrics import classification_report, confusion_matrix, roc_curve, roc_auc_score\n",
    "from sklearn.utils import resample\n",
    "\n",
    "import h2o\n",
    "from h2o.frame import H2OFrame\n",
    "from h2o.estimators import H2ORandomForestEstimator\n",
    "from h2o.grid.grid_search import H2OGridSearch\n",
    "\n",
    "import helper \n",
    "\n",
    "from jupyterthemes import jtplot\n",
    "jtplot.reset()\n",
    "# jtplot.style(theme='onedork')\n",
    "\n",
    "%matplotlib inline"
   ]
  },
  {
   "cell_type": "code",
   "execution_count": null,
   "metadata": {},
   "outputs": [],
   "source": [
    "df = pd.read_csv('conversion_data.csv')\n",
    "df.head()"
   ]
  },
  {
   "cell_type": "markdown",
   "metadata": {},
   "source": [
    "# Exploratory Analysis"
   ]
  },
  {
   "cell_type": "code",
   "execution_count": null,
   "metadata": {},
   "outputs": [],
   "source": [
    "df.describe()\n",
    "df.info()\n",
    "df.isna().sum(axis=0)\n",
    "df.nunique()"
   ]
  },
  {
   "cell_type": "markdown",
   "metadata": {},
   "source": [
    "# How features affect target"
   ]
  },
  {
   "cell_type": "code",
   "execution_count": 87,
   "metadata": {},
   "outputs": [
    {
     "data": {
      "text/plain": [
       "count              316200.000000\n",
       "sum                 10200.000000\n",
       "conversion_rate         0.032258\n",
       "Name: converted, dtype: float64"
      ]
     },
     "execution_count": 87,
     "metadata": {},
     "output_type": "execute_result"
    }
   ],
   "source": [
    "# calculate overall conversion rate\n",
    "cr = df['converted'].agg(['count', np.sum])\n",
    "cr['conversion_rate'] = cr['sum'] / cr['count']\n",
    "cr"
   ]
  },
  {
   "cell_type": "markdown",
   "metadata": {},
   "source": [
    "We have a very imbalanced classification problem!"
   ]
  },
  {
   "cell_type": "code",
   "execution_count": null,
   "metadata": {},
   "outputs": [],
   "source": [
    "# calcualte the conversion rate for each country\n",
    "# temp = (df\n",
    "#  .groupby('country')\n",
    "#  .agg(counts=('age', np.size), \n",
    "#       converted=('converted', lambda x: np.sum(x==1)))\n",
    "#  .assign(conversion_rate=lambda df: df['converted'] / df['counts']))\n",
    "\n",
    "temp = df.groupby('country')['converted'].mean()  # mean will give the conversion rate\n",
    " \n",
    "fig, ax = plt.subplots()\n",
    "ax.plot(temp.index, temp.values, 'o-')\n",
    "ax.set_xlabel('pages visited')\n",
    "ax.set_ylabel('conversion rate')"
   ]
  },
  {
   "cell_type": "code",
   "execution_count": null,
   "metadata": {},
   "outputs": [],
   "source": [
    "# distribution of age\n",
    "fig, ax = plt.subplots()\n",
    "ax.hist(df['age'])"
   ]
  },
  {
   "cell_type": "code",
   "execution_count": null,
   "metadata": {},
   "outputs": [],
   "source": [
    "df = df.loc[df['age']<=60]"
   ]
  },
  {
   "cell_type": "code",
   "execution_count": null,
   "metadata": {},
   "outputs": [],
   "source": [
    "# calcualte the conversion rate for age\n",
    "temp = df.groupby('age')['converted'].mean()\n",
    "\n",
    "fig, ax = plt.subplots()\n",
    "ax.plot(temp.index, temp.values, 'o-')\n",
    "ax.set_xlabel('pages visited')\n",
    "ax.set_ylabel('conversion rate')"
   ]
  },
  {
   "cell_type": "code",
   "execution_count": null,
   "metadata": {},
   "outputs": [],
   "source": [
    "df.groupby('new_user')['converted'].mean()"
   ]
  },
  {
   "cell_type": "code",
   "execution_count": null,
   "metadata": {},
   "outputs": [],
   "source": [
    "df.groupby('source')['converted'].mean()"
   ]
  },
  {
   "cell_type": "code",
   "execution_count": null,
   "metadata": {},
   "outputs": [],
   "source": [
    "df.groupby('total_pages_visited')['converted'].mean()"
   ]
  },
  {
   "cell_type": "markdown",
   "metadata": {},
   "source": [
    "the effects of different features are quite clear. We should be able to build a model with good prediction accuracy."
   ]
  },
  {
   "cell_type": "code",
   "execution_count": null,
   "metadata": {},
   "outputs": [],
   "source": [
    "# for the numerical features, calculate their correlation with target\n",
    "columns = ['age', 'new_user', 'total_pages_visited', 'converted']\n",
    "corr = df[columns].corr(method='pearson')\n",
    "corr"
   ]
  },
  {
   "cell_type": "code",
   "execution_count": null,
   "metadata": {},
   "outputs": [],
   "source": [
    "sns.heatmap(corr, center=0, vmin=-1, vmax=1)"
   ]
  },
  {
   "cell_type": "code",
   "execution_count": null,
   "metadata": {},
   "outputs": [],
   "source": [
    "# df.plot.bar(x='source', y='converted')"
   ]
  },
  {
   "cell_type": "code",
   "execution_count": null,
   "metadata": {},
   "outputs": [],
   "source": [
    "sns.barplot(x='source',y='converted',data=df)"
   ]
  },
  {
   "cell_type": "code",
   "execution_count": null,
   "metadata": {},
   "outputs": [],
   "source": [
    "df.head()"
   ]
  },
  {
   "cell_type": "code",
   "execution_count": null,
   "metadata": {},
   "outputs": [],
   "source": [
    "data = pd.get_dummies(df)\n",
    "data.head()"
   ]
  },
  {
   "cell_type": "code",
   "execution_count": null,
   "metadata": {},
   "outputs": [],
   "source": [
    "# df_country = pd.get_dummies(df['country'])\n",
    "# df = pd.concat([df, df_country], axis=1)\n",
    "# df_source = pd.get_dummies(df['source'])\n",
    "# df = pd.concat([df, df_source], axis=1)\n",
    "# df.head()\n",
    "target = 'converted'\n",
    "features = data.columns.tolist() \n",
    "features.remove(target)\n",
    "features"
   ]
  },
  {
   "cell_type": "code",
   "execution_count": null,
   "metadata": {},
   "outputs": [],
   "source": [
    "X_train, X_test, y_train, y_test = train_test_split(data[features], data[target], test_size=0.2)"
   ]
  },
  {
   "cell_type": "code",
   "execution_count": null,
   "metadata": {},
   "outputs": [],
   "source": [
    "df.shape[0]*0.03"
   ]
  },
  {
   "cell_type": "code",
   "execution_count": null,
   "metadata": {},
   "outputs": [],
   "source": [
    "clf = RandomForestClassifier()  # class_weight='balanced'\n",
    "clf.fit(X_train, y_train)"
   ]
  },
  {
   "cell_type": "code",
   "execution_count": null,
   "metadata": {},
   "outputs": [],
   "source": [
    "y_pred = clf.predict(X_test)\n",
    "\n",
    "report = classification_report(y_test, y_pred, labels=[0, 1], target_names=['not_converted', 'converted'])\n",
    "print(report)\n",
    "# clf.score(X_test,y_test)\n",
    "\n",
    "cm = confusion_matrix(y_test, y_pred)\n"
   ]
  },
  {
   "cell_type": "code",
   "execution_count": null,
   "metadata": {},
   "outputs": [],
   "source": [
    "plot_confusion_matrix(cm, ['not_converted', 'converted'])"
   ]
  },
  {
   "cell_type": "markdown",
   "metadata": {},
   "source": [
    "The accuracy on the test set is 98%, the baseline accuracy is:"
   ]
  },
  {
   "cell_type": "code",
   "execution_count": null,
   "metadata": {},
   "outputs": [],
   "source": [
    "1-sum(df['converted'])/len(df['converted'])"
   ]
  },
  {
   "cell_type": "markdown",
   "metadata": {},
   "source": [
    "# fit on balanced data set"
   ]
  },
  {
   "cell_type": "code",
   "execution_count": null,
   "metadata": {},
   "outputs": [],
   "source": [
    "data0 = data.loc[lambda df: df['converted']==0]\n",
    "data1 = data.loc[lambda df: df['converted']==1]\n",
    "len0, len1 = data0.shape[0], data1.shape[0]\n",
    "\n",
    "data0_resampled = resample(data0, replace=False, n_samples=len1)\n",
    "\n",
    "data_downsampled = pd.concat([data0_resampled, data1])"
   ]
  },
  {
   "cell_type": "code",
   "execution_count": null,
   "metadata": {},
   "outputs": [],
   "source": [
    "X_train, X_test, y_train, y_test = train_test_split(data_downsampled[features], \n",
    "                                                    data_downsampled[target], \n",
    "                                                    test_size=0.2)\n",
    "\n",
    "y_train.groupby(y_train.values).size()"
   ]
  },
  {
   "cell_type": "code",
   "execution_count": null,
   "metadata": {},
   "outputs": [],
   "source": [
    "clf1 = RandomForestClassifier()  # class_weight='balanced'\n",
    "clf1.fit(X_train, y_train)\n",
    "\n",
    "print(clf1.score(X_train, y_train))\n",
    "print(clf1.score(X_test, y_test))"
   ]
  },
  {
   "cell_type": "markdown",
   "metadata": {},
   "source": [
    "## use cross validation to optimize hyper-parameters"
   ]
  },
  {
   "cell_type": "code",
   "execution_count": null,
   "metadata": {},
   "outputs": [],
   "source": [
    "rf = RandomForestClassifier()\n",
    "param_grid = {'n_estimators': np.arange(300, 600, 100), \n",
    "              'max_depth':[4, 5, 6]}\n",
    "clf_best = GridSearchCV(rf, param_grid, cv=5, refit=True, n_jobs=-1)\n",
    "clf_best.fit(X_train, y_train)"
   ]
  },
  {
   "cell_type": "code",
   "execution_count": null,
   "metadata": {},
   "outputs": [],
   "source": [
    "pd.DataFrame(clf_best.cv_results_).sort_values('rank_test_score')"
   ]
  },
  {
   "cell_type": "code",
   "execution_count": null,
   "metadata": {},
   "outputs": [],
   "source": [
    "# check the classification score of the model trained with balanced data\n",
    "clf_best.score(X_test, y_test)\n",
    "y_test_pred = clf_best.predict(X_test)\n",
    "report = classification_report(y_test, y_test_pred, labels=[0, 1], target_names=['not_converted', 'converted'])\n",
    "print(report)"
   ]
  },
  {
   "cell_type": "code",
   "execution_count": null,
   "metadata": {},
   "outputs": [],
   "source": [
    "y_all = data[target]\n",
    "X_all = data[features]\n",
    "y_all_pred = clf_best.predict(X_all)\n",
    "report = classification_report(y_all, y_all_pred, labels=[0, 1], target_names=['not_converted', 'converted'])\n",
    "print(report)"
   ]
  },
  {
   "cell_type": "markdown",
   "metadata": {},
   "source": [
    "so it seems using downsampling to achieve balanced dataset does NOT necessarily improve accuracy, not even for the minority class. "
   ]
  },
  {
   "cell_type": "markdown",
   "metadata": {},
   "source": [
    "# Feature Importance"
   ]
  },
  {
   "cell_type": "code",
   "execution_count": null,
   "metadata": {},
   "outputs": [],
   "source": [
    "importance = pd.Series(data=clf_best.best_estimator_.feature_importances_, \n",
    "                       index = features).sort_values(ascending=True)\n",
    "\n",
    "helper.plot_barh(importance)"
   ]
  },
  {
   "cell_type": "markdown",
   "metadata": {},
   "source": [
    "The most important feature is total_pages_visited. However, it is difficult for the company to cause people to visit more pages. Also, people probably visit more pages to buy things anyway, so it is probably caused by the action of a purchase, rather than causing a purchase.\n",
    "\n",
    "Now I will remove `total_pages_visited` since it is now really helpful to the company."
   ]
  },
  {
   "cell_type": "markdown",
   "metadata": {},
   "source": [
    "The first split of the decision tree is whether or not it is a new user. Thus, the site should try to incentivize older users to come back. The next split of the tree is on country, and the tree is split on the user not being from China. Since China has a large population, the site should try to increase the number of Chinese visitors. The third level is split on age. Basically, the site works better for young users (less than about 30 years of age). Thus, the site should advertise towards young people to maximize the conversion rate of their target audience."
   ]
  },
  {
   "cell_type": "markdown",
   "metadata": {},
   "source": [
    "# use random forest in H2O package "
   ]
  },
  {
   "cell_type": "code",
   "execution_count": null,
   "metadata": {},
   "outputs": [],
   "source": [
    "h2o.init()"
   ]
  },
  {
   "cell_type": "code",
   "execution_count": null,
   "metadata": {},
   "outputs": [],
   "source": [
    "df.head()\n",
    "df.dtypes"
   ]
  },
  {
   "cell_type": "code",
   "execution_count": null,
   "metadata": {},
   "outputs": [],
   "source": [
    "# df.head()\n",
    "\n",
    "h2o_df = H2OFrame(df)\n",
    "h2o_df['new_user'] = h2o_df['new_user'].asfactor()\n",
    "h2o_df['converted'] = h2o_df['converted'].asfactor()\n",
    "\n",
    "h2o_df.summary()"
   ]
  },
  {
   "cell_type": "code",
   "execution_count": null,
   "metadata": {},
   "outputs": [],
   "source": [
    "# train test split\n",
    "train, test = h2o_df.split_frame(ratios=[0.80])\n",
    "features = h2o_df.columns\n",
    "target = 'converted'\n",
    "features.remove(target)"
   ]
  },
  {
   "cell_type": "code",
   "execution_count": null,
   "metadata": {},
   "outputs": [],
   "source": [
    "model = H2ORandomForestEstimator(balance_classes=True, \n",
    "                                 ntrees=200, \n",
    "                                 max_depth=6)\n",
    "model.train(x=features,\n",
    "            y=target,\n",
    "            training_frame=train,\n",
    "            validation_frame=test)"
   ]
  },
  {
   "cell_type": "code",
   "execution_count": null,
   "metadata": {},
   "outputs": [],
   "source": [
    "model.varimp_plot()"
   ]
  },
  {
   "cell_type": "code",
   "execution_count": null,
   "metadata": {},
   "outputs": [],
   "source": [
    "importance"
   ]
  },
  {
   "cell_type": "code",
   "execution_count": null,
   "metadata": {},
   "outputs": [],
   "source": [
    "importance = model.varimp(use_pandas=True).set_index('variable')\n",
    "helper.plot_barh(importance['percentage'])\n"
   ]
  },
  {
   "cell_type": "code",
   "execution_count": null,
   "metadata": {},
   "outputs": [],
   "source": [
    "y_test_pred = model.predict(test[features])\n",
    "y_train_pred = model.predict(train[features])\n",
    "y_train_pred.head()"
   ]
  },
  {
   "cell_type": "code",
   "execution_count": null,
   "metadata": {},
   "outputs": [],
   "source": [
    "y_test_pred_class = y_test_pred.as_data_frame()['predict']\n",
    "y_test = test.as_data_frame()[target]\n",
    "y_train = train.as_data_frame()[target]\n",
    "from sklearn.metrics import classification_report, confusion_matrix\n",
    "print(classification_report(y_test, y_test_pred_class, labels=[0, 1], target_names=['not converted', 'converted']))"
   ]
  },
  {
   "cell_type": "code",
   "execution_count": null,
   "metadata": {},
   "outputs": [],
   "source": [
    "h2o_df.as_data_frame().dtypes"
   ]
  },
  {
   "cell_type": "code",
   "execution_count": null,
   "metadata": {},
   "outputs": [],
   "source": [
    "y_test_pred_prob = y_test_pred.as_data_frame()['p1']\n",
    "y_train_pred_prob = y_train_pred.as_data_frame()['p1']\n",
    "fpr_test, tpr_test, thresholds_test = roc_curve(y_test, y_test_pred_prob, pos_label=1)\n",
    "fpr_train, tpr_train, thresholds_train = roc_curve(y_train, y_train_pred_prob, pos_label=1)\n",
    "\n",
    "\n",
    "\n",
    "fig, ax = plt.subplots()\n",
    "ax.plot(fpr_train, tpr_train, 'r-', label='train')\n",
    "ax.plot(fpr_test, tpr_test, 'b-', label='test')\n",
    "ax.set_xlabel('FPR')\n",
    "ax.set_ylabel('TPR')\n",
    "ax.legend()\n",
    "roc_auc_score(y_test, y_test_pred_prob), roc_auc_score(y_train, y_train_pred_prob)"
   ]
  },
  {
   "cell_type": "code",
   "execution_count": null,
   "metadata": {},
   "outputs": [],
   "source": [
    "fig, ax = plt.subplots()\n",
    "ax.plot(thresholds, fpr, 'r-', label='fpr')\n",
    "ax.plot(thresholds, tpr, 'g-', label='tpr')\n",
    "ax.set_xlabel('threshold')\n",
    "ax.set_ylabel('TPR, FPR')\n",
    "ax.legend()"
   ]
  },
  {
   "cell_type": "code",
   "execution_count": null,
   "metadata": {},
   "outputs": [],
   "source": []
  }
 ],
 "metadata": {
  "kernelspec": {
   "display_name": "Python 3",
   "language": "python",
   "name": "python3"
  },
  "language_info": {
   "codemirror_mode": {
    "name": "ipython",
    "version": 3
   },
   "file_extension": ".py",
   "mimetype": "text/x-python",
   "name": "python",
   "nbconvert_exporter": "python",
   "pygments_lexer": "ipython3",
   "version": "3.7.1"
  },
  "toc": {
   "base_numbering": 1,
   "nav_menu": {},
   "number_sections": true,
   "sideBar": true,
   "skip_h1_title": false,
   "title_cell": "Table of Contents",
   "title_sidebar": "Contents",
   "toc_cell": false,
   "toc_position": {},
   "toc_section_display": true,
   "toc_window_display": false
  }
 },
 "nbformat": 4,
 "nbformat_minor": 2
}
